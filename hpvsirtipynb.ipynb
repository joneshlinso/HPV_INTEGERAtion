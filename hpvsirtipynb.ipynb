{
  "nbformat": 4,
  "nbformat_minor": 0,
  "metadata": {
    "colab": {
      "provenance": []
    },
    "kernelspec": {
      "name": "python3",
      "display_name": "Python 3"
    },
    "language_info": {
      "name": "python"
    }
  },
  "cells": [
    {
      "cell_type": "code",
      "source": [
        "from google.colab import drive\n",
        "drive.mount('/content/drive')"
      ],
      "metadata": {
        "colab": {
          "base_uri": "https://localhost:8080/"
        },
        "id": "CHTElJ4teXY0",
        "outputId": "e7583ca9-feb7-47dd-b17f-ff6956ff09f4"
      },
      "execution_count": null,
      "outputs": [
        {
          "output_type": "stream",
          "name": "stdout",
          "text": [
            "Mounted at /content/drive\n"
          ]
        }
      ]
    },
    {
      "cell_type": "code",
      "metadata": {
        "id": "1e099694"
      },
      "source": [
        "with open('/content/drive/MyDrive/hpv/Homo_sapiens.GRCh38.dna.alt.fa', 'r') as f:\n",
        "    file_content = f.read()"
      ],
      "execution_count": null,
      "outputs": []
    },
    {
      "cell_type": "code",
      "metadata": {
        "id": "126dda5e"
      },
      "source": [
        "reference_genome = file_content"
      ],
      "execution_count": null,
      "outputs": []
    },
    {
      "cell_type": "code",
      "metadata": {
        "colab": {
          "base_uri": "https://localhost:8080/",
          "height": 107
        },
        "id": "f2d83a06",
        "outputId": "aa64a8c5-e245-4546-c517-74e35273bd85"
      },
      "source": [
        "display(reference_genome[:500])"
      ],
      "execution_count": null,
      "outputs": [
        {
          "output_type": "display_data",
          "data": {
            "text/plain": [
              "'>HG76_PATCH dna:scaffold scaffold:GRCh38:HG76_PATCH:1:6367528:1 \\nCTGACCTCAGGGGATCTGCCTGCCTCGGCCTCCCAAAGTGCTGGGATTACAGGTGTGAGA\\nCACCACATCCAGCCCAGCCTACTTTTATACTATGAACAAAACTTCTTAGAATTACCAACT\\nTAAGTACAATAGAAGCTTTTGAAATTAGCTGGGGGGAAATTGAGTCTCTAAGTAAGGAGG\\nAGTAAGAGCAAGAAGATCAGAAGGAACCACAGAATCAAACACTTTCAAAAGGAAAGAAAA\\nTTAGGAAATTGTTCGGTGCCATCCCTTCATTTCAGAGGGGAAGAACTAAGGACTAGAGAA\\nGTCAGGTCACCCCGACAGGACCCTATGTCCCTCCTTGTCGCCTGACCTCTCCCTGTGAGT\\nCTCAGTGGTCCTGGTCCCACAGCAGGTGCTTGGGGACCCAGAAAGAGGCCAGGTCTCCTG\\nACACCCAG'"
            ],
            "application/vnd.google.colaboratory.intrinsic+json": {
              "type": "string"
            }
          },
          "metadata": {}
        }
      ]
    },
    {
      "cell_type": "code",
      "metadata": {
        "id": "802fa397"
      },
      "source": [
        "file_path = '/content/drive/MyDrive/hpv/Homo_sapiens.GRCh38.dna.alt.fa'\n",
        "try:\n",
        "    with open(file_path, 'r') as f:\n",
        "        viral_sequence_content = f.read()\n",
        "    # You can now work with the viral_sequence_content variable\n",
        "    # display(viral_sequence_content[:500]) # Display the first 500 characters to check.\n",
        "except FileNotFoundError:\n",
        "    print(f\"Error: The file was not found at {file_path}. Please check the path.\")\n",
        "except Exception as e:\n",
        "    print(f\"An error occurred: {e}\")"
      ],
      "execution_count": null,
      "outputs": []
    },
    {
      "cell_type": "code",
      "source": [
        "infected_genome = viral_sequence_content"
      ],
      "metadata": {
        "id": "dQCgrK8UiNlZ"
      },
      "execution_count": null,
      "outputs": []
    },
    {
      "cell_type": "code",
      "source": [
        "!fastq-dump --outdir /content SRR34989860\n",
        "!head /content/SRR34989860.fastq"
      ],
      "metadata": {
        "id": "n71vdQUxGwCO",
        "colab": {
          "base_uri": "https://localhost:8080/"
        },
        "outputId": "1c3dbe48-5dbf-4fe1-a5e2-5a7ce5630f5c"
      },
      "execution_count": null,
      "outputs": [
        {
          "output_type": "stream",
          "name": "stdout",
          "text": [
            "Read 195715 spots for SRR34989860\n",
            "Written 195715 spots for SRR34989860\n",
            "@SRR34989860.1 b1d2a3b1-8228-4636-afbc-bf0b95c82159 length=278\n",
            "ATAAGGATGTAGGGTATAGCTGGTACTGGGGTTGTAACAGTATCTGTAATAAAGTCATCTGCATAAATATCATATAATCCGTTATTAATAGAAGTTGGTGGAGCTGCATGAGAGAGTGGTTGTATATGTAGAAGGTGTTATAGTTTGTAATTCTATTTCTTCTGCAGGATTAATACTACTTAAATCATAATAATAATGTACCTTAGCACCTATAGATTTTCCACTACGAGTACGTAGTGTTTGTTTATTACCAATTCTACTGTATCTAATGCCAGTAC\n",
            "+SRR34989860.1 b1d2a3b1-8228-4636-afbc-bf0b95c82159 length=278\n",
            "=<<657<<::/.)(),2.'')+)((),02779:88>@?<::::=A??<<=?CCAB?@=>B?=<==>BBBDFD??>?AA=@200/-./3;><<655650,+)'&&''9893*'&&&&')**.+*>ACBA@???@@?A@@A:9877::::6335DBABCBEEGCA;:::;=>>CEK<:840257?@12011122:=CCC<:-,)))+45==>>>=655555CE><;66657<<>><=<;<>=>B3;BC>==;;:83223666:::?@?98887553110-\n",
            "@SRR34989860.2 9daff32a-22b0-45cf-9cd6-73f407c82185 length=299\n",
            "CTGGACAAGCAGAACCGGACAGAGCCCATTACAATATTGTAACCTTCTGTTGCAAGTGTGACTCTACGCTTCGGTTGTGCGTACAAAGCCACACGTAGACATCCGTACATTGGAAGACCTGTTAATGGGCTTTTAGAATTGTGTGCCCCATCTGTTCTCAGAAACCATAATCTACCATGGCTGATCCTGCAGGTACCAATGGGGAAGAGGGTACAGGATGTAATGGATGGTTCTATGTAGAGGCTGTAGTGGAAAAAAAAACGGGGATACTATATCAGATGACGAGAACGAAAATGACA\n",
            "+SRR34989860.2 9daff32a-22b0-45cf-9cd6-73f407c82185 length=299\n",
            "=><:<<;985''''''''*3-,,-..569<::>==555556@@???@C<;;98;;;>???@?@@@AA765010257>?>A;;::;7/+)&%%%(,.*****+==<<;:)((()91126::55555:;:;:)((((''((+--.414365598;<;;;++)++78:?><<;;==<<;6('((7899999>?::9::;<>>?@<<7<8778::99://../;<@@?@???<;;;:521)))&&&**.4,****189>A?C=6/4.***+6*)))*5==888989?<<;;;?;:;9940/-(\n",
            "@SRR34989860.3 715a80a4-2853-4009-9479-713e9a5ca2fe length=350\n",
            "ATCAAGTAACCGAAAAGATGACACAGGATGTGAGAAAATACTTACAAATCAGGTATCTGAGGGACCTGTATCTAGAATATATAAAGAACCTGACAACTCAACAAAAGACAACTCAAGTTAAAAATGGGCCAAAGATCTGAATGGATAGTTCTCCAGATGAAAGTGCATGAATGGCCGATAAAGCAGGATTAGCATGCTCAGTATCATTAGTCATTAGGGAAATGCAAATCAAAACCACAAGATGCCATTTCACACCCATGGGGAAGGTTATAATCAAAAAGTCAGACACTACAAGTTCTGACAAGGTGGAGAAATTGTAACCCTTGATAAAAACTGTATGTACTTCGTTC\n"
          ]
        }
      ]
    },
    {
      "cell_type": "code",
      "metadata": {
        "colab": {
          "base_uri": "https://localhost:8080/"
        },
        "id": "3e012236",
        "outputId": "eb6d8a74-d175-46fd-9bc7-dfb9f5c80954"
      },
      "source": [
        "!apt-get update\n",
        "!apt-get install sra-toolkit"
      ],
      "execution_count": null,
      "outputs": [
        {
          "output_type": "stream",
          "name": "stdout",
          "text": [
            "Hit:1 https://cli.github.com/packages stable InRelease\n",
            "Get:2 https://cloud.r-project.org/bin/linux/ubuntu jammy-cran40/ InRelease [3,632 B]\n",
            "Get:3 https://r2u.stat.illinois.edu/ubuntu jammy InRelease [6,555 B]\n",
            "Hit:4 http://archive.ubuntu.com/ubuntu jammy InRelease\n",
            "Get:5 http://security.ubuntu.com/ubuntu jammy-security InRelease [129 kB]\n",
            "Get:6 https://developer.download.nvidia.com/compute/cuda/repos/ubuntu2204/x86_64  InRelease [1,581 B]\n",
            "Get:7 https://r2u.stat.illinois.edu/ubuntu jammy/main all Packages [9,189 kB]\n",
            "Hit:8 https://ppa.launchpadcontent.net/deadsnakes/ppa/ubuntu jammy InRelease\n",
            "Hit:9 https://ppa.launchpadcontent.net/graphics-drivers/ppa/ubuntu jammy InRelease\n",
            "Get:10 https://developer.download.nvidia.com/compute/cuda/repos/ubuntu2204/x86_64  Packages [1,937 kB]\n",
            "Hit:11 https://ppa.launchpadcontent.net/ubuntugis/ppa/ubuntu jammy InRelease\n",
            "Get:12 https://r2u.stat.illinois.edu/ubuntu jammy/main amd64 Packages [2,781 kB]\n",
            "Get:13 http://archive.ubuntu.com/ubuntu jammy-updates InRelease [128 kB]\n",
            "Get:14 http://security.ubuntu.com/ubuntu jammy-security/restricted amd64 Packages [5,174 kB]\n",
            "Get:15 http://archive.ubuntu.com/ubuntu jammy-backports InRelease [127 kB]\n",
            "Get:16 http://archive.ubuntu.com/ubuntu jammy-updates/universe amd64 Packages [1,575 kB]\n",
            "Get:17 http://security.ubuntu.com/ubuntu jammy-security/universe amd64 Packages [1,271 kB]\n",
            "Get:18 http://security.ubuntu.com/ubuntu jammy-security/main amd64 Packages [3,233 kB]\n",
            "Get:19 http://archive.ubuntu.com/ubuntu jammy-updates/main amd64 Packages [3,546 kB]\n",
            "Get:20 http://archive.ubuntu.com/ubuntu jammy-updates/restricted amd64 Packages [5,369 kB]\n",
            "Fetched 34.5 MB in 3s (12.8 MB/s)\n",
            "Reading package lists... Done\n",
            "W: Skipping acquire of configured file 'main/source/Sources' as repository 'https://r2u.stat.illinois.edu/ubuntu jammy InRelease' does not seem to provide it (sources.list entry misspelt?)\n",
            "Reading package lists... Done\n",
            "Building dependency tree... Done\n",
            "Reading state information... Done\n",
            "The following additional packages will be installed:\n",
            "  blends-common libkdf5-2 libncbi-vdb2 libncbi-wvdb2 med-config menu\n",
            "Suggested packages:\n",
            "  blends-doc menu-l10n gksu | kde-runtime | ktsuss\n",
            "The following NEW packages will be installed:\n",
            "  blends-common libkdf5-2 libncbi-vdb2 libncbi-wvdb2 med-config menu\n",
            "  sra-toolkit\n",
            "0 upgraded, 7 newly installed, 0 to remove and 62 not upgraded.\n",
            "Need to get 8,290 kB of archives.\n",
            "After this operation, 23.0 MB of additional disk space will be used.\n",
            "Get:1 http://archive.ubuntu.com/ubuntu jammy/universe amd64 menu amd64 2.1.47ubuntu4 [354 kB]\n",
            "Get:2 http://archive.ubuntu.com/ubuntu jammy/universe amd64 blends-common all 0.7.4ubuntu1 [15.9 kB]\n",
            "Get:3 http://archive.ubuntu.com/ubuntu jammy/universe amd64 libkdf5-2 amd64 2.11.2+dfsg-4build2 [14.7 kB]\n",
            "Get:4 http://archive.ubuntu.com/ubuntu jammy/universe amd64 libncbi-vdb2 amd64 2.11.2+dfsg-4build2 [1,364 kB]\n",
            "Get:5 http://archive.ubuntu.com/ubuntu jammy/universe amd64 libncbi-wvdb2 amd64 2.11.2+dfsg-4build2 [1,252 kB]\n",
            "Get:6 http://archive.ubuntu.com/ubuntu jammy/universe amd64 sra-toolkit amd64 2.11.3+dfsg-1ubuntu1 [5,277 kB]\n",
            "Get:7 http://archive.ubuntu.com/ubuntu jammy/universe amd64 med-config all 3.7.1 [11.6 kB]\n",
            "Fetched 8,290 kB in 1s (15.5 MB/s)\n",
            "Preconfiguring packages ...\n",
            "Selecting previously unselected package menu.\n",
            "(Reading database ... 126380 files and directories currently installed.)\n",
            "Preparing to unpack .../0-menu_2.1.47ubuntu4_amd64.deb ...\n",
            "Unpacking menu (2.1.47ubuntu4) ...\n",
            "Selecting previously unselected package blends-common.\n",
            "Preparing to unpack .../1-blends-common_0.7.4ubuntu1_all.deb ...\n",
            "Unpacking blends-common (0.7.4ubuntu1) ...\n",
            "Selecting previously unselected package libkdf5-2.\n",
            "Preparing to unpack .../2-libkdf5-2_2.11.2+dfsg-4build2_amd64.deb ...\n",
            "Unpacking libkdf5-2 (2.11.2+dfsg-4build2) ...\n",
            "Selecting previously unselected package libncbi-vdb2.\n",
            "Preparing to unpack .../3-libncbi-vdb2_2.11.2+dfsg-4build2_amd64.deb ...\n",
            "Unpacking libncbi-vdb2 (2.11.2+dfsg-4build2) ...\n",
            "Selecting previously unselected package libncbi-wvdb2.\n",
            "Preparing to unpack .../4-libncbi-wvdb2_2.11.2+dfsg-4build2_amd64.deb ...\n",
            "Unpacking libncbi-wvdb2 (2.11.2+dfsg-4build2) ...\n",
            "Selecting previously unselected package sra-toolkit.\n",
            "Preparing to unpack .../5-sra-toolkit_2.11.3+dfsg-1ubuntu1_amd64.deb ...\n",
            "Unpacking sra-toolkit (2.11.3+dfsg-1ubuntu1) ...\n",
            "Selecting previously unselected package med-config.\n",
            "Preparing to unpack .../6-med-config_3.7.1_all.deb ...\n",
            "Unpacking med-config (3.7.1) ...\n",
            "Setting up libncbi-vdb2 (2.11.2+dfsg-4build2) ...\n",
            "Setting up libkdf5-2 (2.11.2+dfsg-4build2) ...\n",
            "Setting up libncbi-wvdb2 (2.11.2+dfsg-4build2) ...\n",
            "Setting up menu (2.1.47ubuntu4) ...\n",
            "Setting up blends-common (0.7.4ubuntu1) ...\n",
            "Setting up sra-toolkit (2.11.3+dfsg-1ubuntu1) ...\n",
            "Setting up med-config (3.7.1) ...\n",
            "Adding group `med' (GID 107) ...\n",
            "Done.\n",
            "Processing triggers for man-db (2.10.2-1) ...\n",
            "Processing triggers for libc-bin (2.35-0ubuntu3.8) ...\n",
            "/sbin/ldconfig.real: /usr/local/lib/libur_adapter_level_zero_v2.so.0 is not a symbolic link\n",
            "\n",
            "/sbin/ldconfig.real: /usr/local/lib/libumf.so.0 is not a symbolic link\n",
            "\n",
            "/sbin/ldconfig.real: /usr/local/lib/libtcm.so.1 is not a symbolic link\n",
            "\n",
            "/sbin/ldconfig.real: /usr/local/lib/libtbbbind_2_0.so.3 is not a symbolic link\n",
            "\n",
            "/sbin/ldconfig.real: /usr/local/lib/libtbbmalloc.so.2 is not a symbolic link\n",
            "\n",
            "/sbin/ldconfig.real: /usr/local/lib/libhwloc.so.15 is not a symbolic link\n",
            "\n",
            "/sbin/ldconfig.real: /usr/local/lib/libur_adapter_level_zero.so.0 is not a symbolic link\n",
            "\n",
            "/sbin/ldconfig.real: /usr/local/lib/libtbb.so.12 is not a symbolic link\n",
            "\n",
            "/sbin/ldconfig.real: /usr/local/lib/libur_adapter_opencl.so.0 is not a symbolic link\n",
            "\n",
            "/sbin/ldconfig.real: /usr/local/lib/libtbbmalloc_proxy.so.2 is not a symbolic link\n",
            "\n",
            "/sbin/ldconfig.real: /usr/local/lib/libur_loader.so.0 is not a symbolic link\n",
            "\n",
            "/sbin/ldconfig.real: /usr/local/lib/libtbbbind_2_5.so.3 is not a symbolic link\n",
            "\n",
            "/sbin/ldconfig.real: /usr/local/lib/libtbbbind.so.3 is not a symbolic link\n",
            "\n",
            "/sbin/ldconfig.real: /usr/local/lib/libtcm_debug.so.1 is not a symbolic link\n",
            "\n",
            "Processing triggers for menu (2.1.47ubuntu4) ...\n"
          ]
        }
      ]
    },
    {
      "cell_type": "code",
      "metadata": {
        "colab": {
          "base_uri": "https://localhost:8080/"
        },
        "id": "f60d99b2",
        "outputId": "74dbaeba-6b7f-4b88-d498-848ce2cff8eb"
      },
      "source": [
        "!ls /content/"
      ],
      "execution_count": null,
      "outputs": [
        {
          "output_type": "stream",
          "name": "stdout",
          "text": [
            "drive  sample_data  SRR34989860.fastq\n"
          ]
        }
      ]
    },
    {
      "cell_type": "code",
      "metadata": {
        "colab": {
          "base_uri": "https://localhost:8080/"
        },
        "id": "2a05a524",
        "outputId": "29cf54c4-a846-49ff-e7a1-470a4e302183"
      },
      "source": [
        "!head /content/drive/MyDrive/hpv/Homo_sapiens.GRCh38.dna.alt.fa"
      ],
      "execution_count": null,
      "outputs": [
        {
          "output_type": "stream",
          "name": "stdout",
          "text": [
            ">HG76_PATCH dna:scaffold scaffold:GRCh38:HG76_PATCH:1:6367528:1 \n",
            "CTGACCTCAGGGGATCTGCCTGCCTCGGCCTCCCAAAGTGCTGGGATTACAGGTGTGAGA\n",
            "CACCACATCCAGCCCAGCCTACTTTTATACTATGAACAAAACTTCTTAGAATTACCAACT\n",
            "TAAGTACAATAGAAGCTTTTGAAATTAGCTGGGGGGAAATTGAGTCTCTAAGTAAGGAGG\n",
            "AGTAAGAGCAAGAAGATCAGAAGGAACCACAGAATCAAACACTTTCAAAAGGAAAGAAAA\n",
            "TTAGGAAATTGTTCGGTGCCATCCCTTCATTTCAGAGGGGAAGAACTAAGGACTAGAGAA\n",
            "GTCAGGTCACCCCGACAGGACCCTATGTCCCTCCTTGTCGCCTGACCTCTCCCTGTGAGT\n",
            "CTCAGTGGTCCTGGTCCCACAGCAGGTGCTTGGGGACCCAGAAAGAGGCCAGGTCTCCTG\n",
            "ACACCCAGCCCCGCTCTTGTTGGGTCCCTGAATCTGGAATGGTTACTCATGTTGGGGGAA\n",
            "TTTTATATTCTTTTTTCCAAAAGTTGATATCCAGCTAGAATCTGTCCTTCCTGAGAGCTT\n"
          ]
        }
      ]
    },
    {
      "cell_type": "code",
      "metadata": {
        "id": "99f7c7da"
      },
      "source": [
        "!mv /content/SRR34989860.fastq /content/drive/MyDrive/hpv/"
      ],
      "execution_count": null,
      "outputs": []
    },
    {
      "cell_type": "code",
      "metadata": {
        "id": "8fda4957"
      },
      "source": [
        "!mv /content/sample_data /content/hpv_fastq"
      ],
      "execution_count": null,
      "outputs": []
    },
    {
      "cell_type": "code",
      "metadata": {
        "colab": {
          "base_uri": "https://localhost:8080/"
        },
        "id": "d2c166fd",
        "outputId": "01b9d0b1-d03d-4c03-b68f-23f963ee05db"
      },
      "source": [
        "!ls /content/"
      ],
      "execution_count": null,
      "outputs": [
        {
          "output_type": "stream",
          "name": "stdout",
          "text": [
            "drive  hpv_fastq\n"
          ]
        }
      ]
    },
    {
      "cell_type": "code",
      "metadata": {
        "colab": {
          "base_uri": "https://localhost:8080/"
        },
        "id": "19dea1f4",
        "outputId": "61f5d888-81de-4493-d5a9-f4a349619eec"
      },
      "source": [
        "!ls /content/hpv_fastq"
      ],
      "execution_count": null,
      "outputs": [
        {
          "output_type": "stream",
          "name": "stdout",
          "text": [
            "anscombe.json\t\t      mnist_test.csv\n",
            "california_housing_test.csv   mnist_train_small.csv\n",
            "california_housing_train.csv  README.md\n"
          ]
        }
      ]
    },
    {
      "cell_type": "code",
      "metadata": {
        "colab": {
          "base_uri": "https://localhost:8080/"
        },
        "id": "3d08bd84",
        "outputId": "719fe583-db85-4c63-d8c3-ded45b30b436"
      },
      "source": [
        "!head /content/drive/MyDrive/hpv/Homo_sapiens.GRCh38.dna.alt.fa"
      ],
      "execution_count": null,
      "outputs": [
        {
          "output_type": "stream",
          "name": "stdout",
          "text": [
            ">HG76_PATCH dna:scaffold scaffold:GRCh38:HG76_PATCH:1:6367528:1 \n",
            "CTGACCTCAGGGGATCTGCCTGCCTCGGCCTCCCAAAGTGCTGGGATTACAGGTGTGAGA\n",
            "CACCACATCCAGCCCAGCCTACTTTTATACTATGAACAAAACTTCTTAGAATTACCAACT\n",
            "TAAGTACAATAGAAGCTTTTGAAATTAGCTGGGGGGAAATTGAGTCTCTAAGTAAGGAGG\n",
            "AGTAAGAGCAAGAAGATCAGAAGGAACCACAGAATCAAACACTTTCAAAAGGAAAGAAAA\n",
            "TTAGGAAATTGTTCGGTGCCATCCCTTCATTTCAGAGGGGAAGAACTAAGGACTAGAGAA\n",
            "GTCAGGTCACCCCGACAGGACCCTATGTCCCTCCTTGTCGCCTGACCTCTCCCTGTGAGT\n",
            "CTCAGTGGTCCTGGTCCCACAGCAGGTGCTTGGGGACCCAGAAAGAGGCCAGGTCTCCTG\n",
            "ACACCCAGCCCCGCTCTTGTTGGGTCCCTGAATCTGGAATGGTTACTCATGTTGGGGGAA\n",
            "TTTTATATTCTTTTTTCCAAAAGTTGATATCCAGCTAGAATCTGTCCTTCCTGAGAGCTT\n"
          ]
        }
      ]
    },
    {
      "cell_type": "code",
      "metadata": {
        "id": "04ddc2f9"
      },
      "source": [
        "with open('/content/drive/MyDrive/hpv/SRR34989860.fastq', 'r') as f:\n",
        "    hpv_fastq = f.read()"
      ],
      "execution_count": null,
      "outputs": []
    },
    {
      "cell_type": "code",
      "metadata": {
        "id": "91d3ed48"
      },
      "source": [
        "human_reference_fa = reference_genome"
      ],
      "execution_count": null,
      "outputs": []
    },
    {
      "cell_type": "code",
      "metadata": {
        "colab": {
          "base_uri": "https://localhost:8080/",
          "height": 89
        },
        "id": "762c7404",
        "outputId": "ffdf86a0-9f41-44f9-faea-5d52fcbde4a7"
      },
      "source": [
        "display(hpv_fastq[:500])\n"
      ],
      "execution_count": null,
      "outputs": [
        {
          "output_type": "display_data",
          "data": {
            "text/plain": [
              "\"@SRR34989860.1 b1d2a3b1-8228-4636-afbc-bf0b95c82159 length=278\\nATAAGGATGTAGGGTATAGCTGGTACTGGGGTTGTAACAGTATCTGTAATAAAGTCATCTGCATAAATATCATATAATCCGTTATTAATAGAAGTTGGTGGAGCTGCATGAGAGAGTGGTTGTATATGTAGAAGGTGTTATAGTTTGTAATTCTATTTCTTCTGCAGGATTAATACTACTTAAATCATAATAATAATGTACCTTAGCACCTATAGATTTTCCACTACGAGTACGTAGTGTTTGTTTATTACCAATTCTACTGTATCTAATGCCAGTAC\\n+SRR34989860.1 b1d2a3b1-8228-4636-afbc-bf0b95c82159 length=278\\n=<<657<<::/.)(),2.'')+)((),02779:88>@?<::::=A??<<=?CCAB?@=>B?=<==>BBBDFD??>?AA=@200/-./3;><<655\""
            ],
            "application/vnd.google.colaboratory.intrinsic+json": {
              "type": "string"
            }
          },
          "metadata": {}
        }
      ]
    },
    {
      "cell_type": "code",
      "source": [
        "display(human_reference_fa[:500])"
      ],
      "metadata": {
        "colab": {
          "base_uri": "https://localhost:8080/",
          "height": 89
        },
        "id": "pX5Eg8wwLDSb",
        "outputId": "98541e52-4974-48ec-af65-64d3bd077321"
      },
      "execution_count": null,
      "outputs": [
        {
          "output_type": "display_data",
          "data": {
            "text/plain": [
              "'>HG76_PATCH dna:scaffold scaffold:GRCh38:HG76_PATCH:1:6367528:1 \\nCTGACCTCAGGGGATCTGCCTGCCTCGGCCTCCCAAAGTGCTGGGATTACAGGTGTGAGA\\nCACCACATCCAGCCCAGCCTACTTTTATACTATGAACAAAACTTCTTAGAATTACCAACT\\nTAAGTACAATAGAAGCTTTTGAAATTAGCTGGGGGGAAATTGAGTCTCTAAGTAAGGAGG\\nAGTAAGAGCAAGAAGATCAGAAGGAACCACAGAATCAAACACTTTCAAAAGGAAAGAAAA\\nTTAGGAAATTGTTCGGTGCCATCCCTTCATTTCAGAGGGGAAGAACTAAGGACTAGAGAA\\nGTCAGGTCACCCCGACAGGACCCTATGTCCCTCCTTGTCGCCTGACCTCTCCCTGTGAGT\\nCTCAGTGGTCCTGGTCCCACAGCAGGTGCTTGGGGACCCAGAAAGAGGCCAGGTCTCCTG\\nACACCCAG'"
            ],
            "application/vnd.google.colaboratory.intrinsic+json": {
              "type": "string"
            }
          },
          "metadata": {}
        }
      ]
    },
    {
      "cell_type": "code",
      "source": [],
      "metadata": {
        "id": "C3Jp33R_LEok"
      },
      "execution_count": null,
      "outputs": []
    },
    {
      "cell_type": "code",
      "metadata": {
        "colab": {
          "base_uri": "https://localhost:8080/",
          "height": 89
        },
        "id": "fdbf4938",
        "outputId": "d2ba0f7f-9fc9-47b3-ff23-96a5daf1e5fd"
      },
      "source": [
        "with open('/content/HPV_Reference..fasta', 'r') as f:\n",
        "    hpv_reference_fasta = f.read()\n",
        "\n",
        "display(hpv_reference_fasta[:500])"
      ],
      "execution_count": null,
      "outputs": [
        {
          "output_type": "display_data",
          "data": {
            "text/plain": [
              "'>NC_001526.4 Human papillomavirus type 16, complete genome\\nATGGCTGATCCTGCAGGTACCAATGGGGAAGAGGGTACGGGATGTAATGGATGGTTTTATGTAGAGGCTG\\nTAGTGGAAAAAAAAACAGGGGATGCTATATCAGATGACGAGAACGAAAATGACAGTGATACAGGTGAAGA\\nTTTGGTAGATTTTATAGTAAATGATAATGATTATTTAACACAGGCAGAAACAGAGACAGCACATGCGTTG\\nTTTACTGCACAGGAAGCAAAACAACATAGAGATGCAGTACAGGTTCTAAAACGAAAGTATTTGGGTAGTC\\nCACTTAGTGATATTAGTGGATGTGTAGACAATAATATTAGTCCTAGATTAAAAGCTATATGTATAGAAAA\\nACAAAGTAGAGCTGCAAAAAGGAGATTATTTGAAAGCGAAGACAGCGGGTATGGCAATACTGAAGTGGAA\\nACTCAGCAGATGTTA'"
            ],
            "application/vnd.google.colaboratory.intrinsic+json": {
              "type": "string"
            }
          },
          "metadata": {}
        }
      ]
    },
    {
      "cell_type": "code",
      "source": [
        "\n",
        "!apt-get update\n",
        "!apt-get install -y bwa samtools bcftools fastp"
      ],
      "metadata": {
        "id": "0uH7WYEENtR4",
        "colab": {
          "base_uri": "https://localhost:8080/"
        },
        "outputId": "95bc0f93-cf78-4a67-948d-3f824353e9b6"
      },
      "execution_count": 41,
      "outputs": [
        {
          "output_type": "stream",
          "name": "stdout",
          "text": [
            "\r0% [Working]\r            \rHit:1 https://cli.github.com/packages stable InRelease\n",
            "\r0% [Connecting to archive.ubuntu.com (185.125.190.82)] [Connecting to security.\r                                                                               \rHit:2 https://developer.download.nvidia.com/compute/cuda/repos/ubuntu2204/x86_64  InRelease\n",
            "\r0% [Connecting to archive.ubuntu.com (185.125.190.82)] [Connecting to security.\r0% [Waiting for headers] [Waiting for headers] [Waiting for headers] [Waiting f\r                                                                               \rHit:3 https://cloud.r-project.org/bin/linux/ubuntu jammy-cran40/ InRelease\n",
            "\r0% [Waiting for headers] [Waiting for headers] [Waiting for headers] [Connectin\r0% [Waiting for headers] [Waiting for headers] [Waiting for headers] [Connectin\r                                                                               \rHit:4 https://r2u.stat.illinois.edu/ubuntu jammy InRelease\n",
            "\r0% [Waiting for headers] [Waiting for headers] [Connecting to ppa.launchpadcont\r                                                                               \rHit:5 http://archive.ubuntu.com/ubuntu jammy InRelease\n",
            "Hit:6 http://security.ubuntu.com/ubuntu jammy-security InRelease\n",
            "Hit:7 http://archive.ubuntu.com/ubuntu jammy-updates InRelease\n",
            "Hit:8 http://archive.ubuntu.com/ubuntu jammy-backports InRelease\n",
            "Hit:9 https://ppa.launchpadcontent.net/deadsnakes/ppa/ubuntu jammy InRelease\n",
            "Hit:10 https://ppa.launchpadcontent.net/graphics-drivers/ppa/ubuntu jammy InRelease\n",
            "Hit:11 https://ppa.launchpadcontent.net/ubuntugis/ppa/ubuntu jammy InRelease\n",
            "Reading package lists... Done\n",
            "W: Skipping acquire of configured file 'main/source/Sources' as repository 'https://r2u.stat.illinois.edu/ubuntu jammy InRelease' does not seem to provide it (sources.list entry misspelt?)\n",
            "Reading package lists... Done\n",
            "Building dependency tree... Done\n",
            "Reading state information... Done\n",
            "bcftools is already the newest version (1.13-1).\n",
            "bwa is already the newest version (0.7.17-6).\n",
            "samtools is already the newest version (1.13-4).\n",
            "The following NEW packages will be installed:\n",
            "  fastp\n",
            "0 upgraded, 1 newly installed, 0 to remove and 62 not upgraded.\n",
            "Need to get 193 kB of archives.\n",
            "After this operation, 640 kB of additional disk space will be used.\n",
            "Get:1 http://archive.ubuntu.com/ubuntu jammy/universe amd64 fastp amd64 0.20.1+dfsg-1 [193 kB]\n",
            "Fetched 193 kB in 1s (250 kB/s)\n",
            "Selecting previously unselected package fastp.\n",
            "(Reading database ... 126901 files and directories currently installed.)\n",
            "Preparing to unpack .../fastp_0.20.1+dfsg-1_amd64.deb ...\n",
            "Unpacking fastp (0.20.1+dfsg-1) ...\n",
            "Setting up fastp (0.20.1+dfsg-1) ...\n",
            "Processing triggers for man-db (2.10.2-1) ...\n"
          ]
        }
      ]
    },
    {
      "cell_type": "code",
      "source": [
        "# Assume your variables are named: human_reference_fa, hpv_reference_fasta, hpv_fastq\n",
        "\n",
        "# Write the Human Reference FASTA file\n",
        "with open('human_reference.fa', 'w') as f:\n",
        "    f.write(human_reference_fa)\n",
        "\n",
        "# Write the HPV Reference FASTA file\n",
        "with open('hpv_reference.fa', 'w') as f:\n",
        "    f.write(hpv_reference_fasta)\n",
        "\n",
        "# Write the HPV Sample FASTQ file\n",
        "with open('hpv_sample.fastq', 'w') as f:\n",
        "    f.write(hpv_fastq)\n",
        "\n",
        "print(\"All three files have been created successfully.\")"
      ],
      "metadata": {
        "colab": {
          "base_uri": "https://localhost:8080/"
        },
        "id": "IYGn7IfZP-I8",
        "outputId": "8755ecbd-8f1b-4304-dfa9-d534a542f746"
      },
      "execution_count": 42,
      "outputs": [
        {
          "output_type": "stream",
          "name": "stdout",
          "text": [
            "All three files have been created successfully.\n"
          ]
        }
      ]
    },
    {
      "cell_type": "code",
      "source": [
        "!cat human_reference.fa hpv_reference.fa > combined_reference.fa"
      ],
      "metadata": {
        "id": "cc7ZNEsJQyIq"
      },
      "execution_count": 43,
      "outputs": []
    },
    {
      "cell_type": "code",
      "source": [
        "!bwa index combined_reference.fa"
      ],
      "metadata": {
        "colab": {
          "base_uri": "https://localhost:8080/"
        },
        "id": "xCpJLTKBQ26B",
        "outputId": "803b0cb8-6c06-470a-e040-aa03a44bc086"
      },
      "execution_count": 44,
      "outputs": [
        {
          "output_type": "stream",
          "name": "stdout",
          "text": [
            "[bwa_index] Pack FASTA... 1.90 sec\n",
            "[bwa_index] Construct BWT for the packed sequence...\n",
            "[BWTIncCreate] textLength=383685074, availableWord=38997320\n",
            "[BWTIncConstructFromPacked] 10 iterations done. 64328322 characters processed.\n",
            "[BWTIncConstructFromPacked] 20 iterations done. 118842562 characters processed.\n",
            "[BWTIncConstructFromPacked] 30 iterations done. 167290962 characters processed.\n",
            "[BWTIncConstructFromPacked] 40 iterations done. 210347954 characters processed.\n",
            "[BWTIncConstructFromPacked] 50 iterations done. 248613122 characters processed.\n",
            "[BWTIncConstructFromPacked] 60 iterations done. 282619298 characters processed.\n",
            "[BWTIncConstructFromPacked] 70 iterations done. 312840050 characters processed.\n",
            "[BWTIncConstructFromPacked] 80 iterations done. 339696290 characters processed.\n",
            "[BWTIncConstructFromPacked] 90 iterations done. 363562130 characters processed.\n",
            "[BWTIncConstructFromPacked] 100 iterations done. 383685074 characters processed.\n",
            "[bwt_gen] Finished constructing BWT in 100 iterations.\n",
            "[bwa_index] 173.90 seconds elapse.\n",
            "[bwa_index] Update BWT... 1.32 sec\n",
            "[bwa_index] Pack forward-only FASTA... 0.66 sec\n",
            "[bwa_index] Construct SA from BWT and Occ... 89.87 sec\n",
            "[main] Version: 0.7.17-r1188\n",
            "[main] CMD: bwa index combined_reference.fa\n",
            "[main] Real time: 271.213 sec; CPU: 267.656 sec\n"
          ]
        }
      ]
    },
    {
      "cell_type": "markdown",
      "source": [
        "Phase 2: Sample Processing & Alignment 🔬\n",
        "Here, we process your sample's FASTQ file and perform the main comparison against the reference.\n"
      ],
      "metadata": {
        "id": "ZpG11qVzSuqQ"
      }
    },
    {
      "cell_type": "code",
      "source": [
        "# -i is the input file, -o is the output file\n",
        "!fastp -i hpv_sample.fastq -o clean_hpv_sample.fastq"
      ],
      "metadata": {
        "colab": {
          "base_uri": "https://localhost:8080/"
        },
        "id": "Dvt4-F8CSwIb",
        "outputId": "97f3939e-35e0-4edb-d11c-f9d8d81dca0a"
      },
      "execution_count": 45,
      "outputs": [
        {
          "output_type": "stream",
          "name": "stdout",
          "text": [
            "Detecting adapter sequence for read1...\n",
            "AGAGAGAGAGAGAGAGAGAGAGAGAGAGAGAGAGAGAGAGAGAGAGAGAGAGAGAGAGAG\n",
            "\n",
            "Read1 before filtering:\n",
            "total reads: 195715\n",
            "total bases: 94844238\n",
            "Q20 bases: 64688295(68.2048%)\n",
            "Q30 bases: 19163983(20.2057%)\n",
            "\n",
            "Read1 after filtering:\n",
            "total reads: 188089\n",
            "total bases: 91161653\n",
            "Q20 bases: 63108848(69.2274%)\n",
            "Q30 bases: 18758631(20.5773%)\n",
            "\n",
            "Filtering result:\n",
            "reads passed filter: 188089\n",
            "reads failed due to low quality: 7593\n",
            "reads failed due to too many N: 0\n",
            "reads failed due to too short: 33\n",
            "reads with adapter trimmed: 531\n",
            "bases trimmed due to adapters: 112175\n",
            "\n",
            "Duplication rate (may be overestimated since this is SE data): 0.934419%\n",
            "\n",
            "JSON report: fastp.json\n",
            "HTML report: fastp.html\n",
            "\n",
            "fastp -i hpv_sample.fastq -o clean_hpv_sample.fastq \n",
            "fastp v0.20.1, time used: 17 seconds\n"
          ]
        }
      ]
    },
    {
      "cell_type": "code",
      "source": [
        "# This command can take some time to run\n",
        "!bwa mem combined_reference.fa clean_hpv_sample.fastq > alignment.sam"
      ],
      "metadata": {
        "colab": {
          "base_uri": "https://localhost:8080/"
        },
        "id": "S4fwHi2kSz2K",
        "outputId": "e1036b8d-d532-4ca8-eaab-05bff2ce349d"
      },
      "execution_count": 46,
      "outputs": [
        {
          "output_type": "stream",
          "name": "stdout",
          "text": [
            "[M::bwa_idx_load_from_disk] read 0 ALT contigs\n",
            "[M::process] read 20638 sequences (10000736 bp)...\n",
            "[M::process] read 20734 sequences (10001105 bp)...\n",
            "[M::mem_process_seqs] Processed 20638 reads in 80.260 CPU sec, 80.599 real sec\n",
            "[M::process] read 20708 sequences (10000860 bp)...\n",
            "[M::mem_process_seqs] Processed 20734 reads in 80.279 CPU sec, 80.641 real sec\n",
            "[M::process] read 20604 sequences (10000062 bp)...\n",
            "[M::mem_process_seqs] Processed 20708 reads in 76.467 CPU sec, 76.795 real sec\n",
            "[M::process] read 20610 sequences (10000343 bp)...\n",
            "[M::mem_process_seqs] Processed 20604 reads in 80.191 CPU sec, 80.523 real sec\n",
            "[M::process] read 20630 sequences (10000646 bp)...\n",
            "[M::mem_process_seqs] Processed 20610 reads in 79.502 CPU sec, 79.879 real sec\n",
            "[M::process] read 20642 sequences (10000598 bp)...\n",
            "[M::mem_process_seqs] Processed 20630 reads in 81.528 CPU sec, 81.963 real sec\n",
            "[M::process] read 20714 sequences (10000335 bp)...\n",
            "[M::mem_process_seqs] Processed 20642 reads in 79.537 CPU sec, 79.915 real sec\n",
            "[M::process] read 20470 sequences (10002231 bp)...\n",
            "[M::mem_process_seqs] Processed 20714 reads in 662.803 CPU sec, 666.412 real sec\n",
            "[M::process] read 2339 sequences (1154737 bp)...\n",
            "[M::mem_process_seqs] Processed 20470 reads in 76.416 CPU sec, 76.722 real sec\n",
            "[M::mem_process_seqs] Processed 2339 reads in 8.325 CPU sec, 8.343 real sec\n",
            "[main] Version: 0.7.17-r1188\n",
            "[main] CMD: bwa mem combined_reference.fa clean_hpv_sample.fastq\n",
            "[main] Real time: 1313.271 sec; CPU: 1306.714 sec\n"
          ]
        }
      ]
    },
    {
      "cell_type": "code",
      "source": [
        "# Convert SAM to BAM\n",
        "!samtools view -bS alignment.sam -o alignment.bam\n",
        "\n",
        "# Sort the BAM file\n",
        "!samtools sort alignment.bam -o sorted_alignment.bam\n",
        "\n",
        "# Index the sorted BAM file\n",
        "!samtools index sorted_alignment.bam"
      ],
      "metadata": {
        "id": "-OnGYuDITUU8"
      },
      "execution_count": 47,
      "outputs": []
    },
    {
      "cell_type": "code",
      "source": [
        "# -f is the reference, the next file is your alignment, -o is the output\n",
        "!bcftools mpileup -f combined_reference.fa sorted_alignment.bam | bcftools call -mv -o variants.vcf"
      ],
      "metadata": {
        "colab": {
          "base_uri": "https://localhost:8080/"
        },
        "id": "Wm3rpXTUdlfU",
        "outputId": "9a8be86c-84c3-4f5c-d698-2636866bcdb6"
      },
      "execution_count": 48,
      "outputs": [
        {
          "output_type": "stream",
          "name": "stdout",
          "text": [
            "Note: none of --samples-file, --ploidy or --ploidy-file given, assuming all sites are diploid\n",
            "[mpileup] 1 samples in 1 input files\n",
            "[mpileup] maximum number of reads per input file set to -d 250\n"
          ]
        }
      ]
    },
    {
      "cell_type": "code",
      "source": [
        "!grep -v \"^#\" variants.vcf | head"
      ],
      "metadata": {
        "colab": {
          "base_uri": "https://localhost:8080/"
        },
        "id": "PI4T9GZWggjK",
        "outputId": "fc8d8555-f428-4a0a-9714-6328014e6d5d"
      },
      "execution_count": 51,
      "outputs": [
        {
          "output_type": "stream",
          "name": "stdout",
          "text": [
            "HG76_PATCH\t96713\t.\tC\tG\t6.51248\t.\tDP=23;VDB=1.34202e-12;SGB=-0.692717;MQSBZ=0.648719;FS=0;MQ0F=0.695652;AC=2;AN=2;DP4=0,0,1,22;MQ=3\tGT:PL\t1/1:35,69,0\n",
            "HG76_PATCH\t180469\t.\tG\tA\t30.4183\t.\tDP=5;VDB=0.00444448;SGB=-0.590765;FS=0;MQ0F=0.2;AC=2;AN=2;DP4=0,0,5,0;MQ=20\tGT:PL\t1/1:60,15,0\n",
            "HG76_PATCH\t180478\t.\tG\tA\t41.2774\t.\tDP=5;VDB=0.00766117;SGB=-0.556411;RPBZ=1.58114;MQBZ=1.45095;BQBZ=1.41421;SCBZ=-1.08821;FS=0;MQ0F=0.2;AC=2;AN=2;DP4=1,0,4,0;MQ=20\tGT:PL\t1/1:68,8,0\n",
            "HG76_PATCH\t450132\t.\tT\tC\t3.7766\t.\tDP=5;VDB=0.194159;SGB=-0.590765;MQSBZ=0;FS=0;MQ0F=0.6;AC=2;AN=2;DP4=0,0,3,2;MQ=5\tGT:PL\t1/1:31,15,0\n",
            "HG76_PATCH\t528549\t.\tG\tA\t5.75677\t.\tDP=1;SGB=-0.379885;FS=0;MQ0F=0;AC=2;AN=2;DP4=0,0,0,1;MQ=59\tGT:PL\t1/1:34,3,0\n",
            "HG76_PATCH\t528569\t.\tA\tG\t5.75677\t.\tDP=1;SGB=-0.379885;FS=0;MQ0F=0;AC=2;AN=2;DP4=0,0,0,1;MQ=59\tGT:PL\t1/1:34,3,0\n",
            "HG76_PATCH\t528607\t.\tC\tA\t3.7766\t.\tDP=1;SGB=-0.379885;FS=0;MQ0F=0;AC=2;AN=2;DP4=0,0,0,1;MQ=59\tGT:PL\t1/1:31,3,0\n",
            "HG76_PATCH\t606681\t.\tA\tG\t6.51248\t.\tDP=5;VDB=0.00596054;SGB=-0.590765;MQSBZ=-1.1847;FS=0;MQ0F=0.4;AC=2;AN=2;DP4=0,0,2,3;MQ=12\tGT:PL\t1/1:35,15,0\n",
            "HG76_PATCH\t606684\t.\tT\tG\t18.4764\t.\tDP=5;VDB=0.00635408;SGB=-0.590765;MQSBZ=-1.1847;FS=0;MQ0F=0.4;AC=2;AN=2;DP4=0,0,2,3;MQ=12\tGT:PL\t1/1:48,15,0\n",
            "HG76_PATCH\t606696\t.\tA\tG\t25.4267\t.\tDP=5;VDB=0.00923447;SGB=-0.590765;MQSBZ=-1.1847;FS=0;MQ0F=0.4;AC=2;AN=2;DP4=0,0,2,3;MQ=12\tGT:PL\t1/1:55,15,0\n"
          ]
        }
      ]
    },
    {
      "cell_type": "code",
      "source": [
        "# View the first 10 alignment records in the BAM file\n",
        "!samtools view sorted_alignment.bam | head -n 10"
      ],
      "metadata": {
        "colab": {
          "base_uri": "https://localhost:8080/"
        },
        "id": "oSqFMzAdglig",
        "outputId": "7ef6a889-9abc-4e5a-fa59-9a1a23f0ce22"
      },
      "execution_count": 52,
      "outputs": [
        {
          "output_type": "stream",
          "name": "stdout",
          "text": [
            "SRR34989860.81165\t0\tHG76_PATCH\t995\t0\t116S75M\t*\t0\t0\tCTGGAAGTGATTTTCTCCTCAAACAGACTGGGTGGTCTATATCAGTGGTTTTAAGTTTTTGCTTTTGTTTTTTTTAATTTCATGAGCCAGTAAAAAAAAAAAATTTCGAGACAACATCTCACTCTGTCGCCCAGGCTGAAGTGCAGTGGCACGATCTCAGCTCACTGCAACCTCCACCTCCCAGGTTCAAC\t)('&''))))*?:-1.+'''+.3/5334721111///++,333(((((897()(((*7;24;<<;>?3888333.++*+0+(''((011<<;;;CN{{{{L<1;8=;;;9<AA;::::=@?>@@@AB=77778@<>?3(((()/.0012A:833345;,++*,10/***++6@?ABDCCGGB??@?>@>42\tNM:i:3\tMD:Z:12A9G51G0\tAS:i:64\tXS:i:60\n",
            "SRR34989860.162598\t0\tHG76_PATCH\t23677\t0\t10S88M304S\t*\t0\t0\tGTGTTGGAGGTTGCAGTGAGACCAGATCACGCCTCTGTACTCCAGCCTGGGCGACAGAATAAGACTCTGTCTCAAAAAAAAAAAAAAAAAAAAAAAAATTAAATAATGGCCTGTTTCTAGATTTCAAAGCAGCTTGGACCTGGAAATTAAATATTTGGAATCCTCCAAGTAATGTACTTACAAGAAACTTTTGTATATTTAAAGGCACATCTAATGTGCTTAATAAATTTTCATAAACATCAATAAATGAGTGAGTAAATTAATGAGCGGTGAACTAAATGGTGATACAATAGGAGTGACGAGATAGAATTTTCTGAGTTTTTTGTTTGTTTTTGAGATAGGCTCTCTCTCTGTCACCCAGGCAGACATGGCTCACTGCAGCCTCAGACTGCTGGGTTCAAC\t:9:::553000/1/)((().,+***,0;7666766777?ABA@@<>==><=<::99<@<9899;??>=====4/--><??>>===>>=><;;;:::746789:<=>==:977678;;<=;:;<=>99657<;:::;;<;6230//...--+++,--+++*+*'''&&)*/038:>=<:899::336657:63-+**)*+**-''('()-/230./.-('''')((''(,/.0,,,-,-666+('(((',)&&('&'''&%%)))(()(&%%%*/1.*)'''%%%%&...3211000567643347>;8545569><<<17<BF;===<2;==4,+/787---.13;{{{{{{0/00142,,)(%%%&&&'((-26886:@>:<;95556768778:99:2+(\tNM:i:6\tMD:Z:10C1G10A3C14A5G39\tAS:i:58\tXS:i:55\n",
            "SRR34989860.60634\t16\tHG76_PATCH\t23677\t0\t22S87M152S\t*\t0\t0\tAGTTGAACCTGGGTGTTGGAGGTTGCAGTGAGACCAGATCACGCCTCTGTACTCCAGCCTGGGCGACAGAATAAGACTCTGTCTCAAAAAAAAAAAAAAAAAAAAAAAATTAAATAATGGCCTGTTTCTAGATTTCAAAGCAGCTTGGACCTGAAATTAAATATTTGGAATCTATCCAAGTAATGTACTTACAAGAAACTTTTGTATGTTAAAGGCACATCTAATGTGCTTAATAAATTTCATAAACATCAATAAATGGAG\t'*/2:=<>>:;::;>?@;11001?=:==>?====?BCA=<<;;>>=@@@?@AAAB??@?<;;;<>C?;:::;==<323>=>:99<=DCB@<;;::98899:<<=;>::6:;;<>;:98899:811,,,67?>776544547=74...21++*+)&&%(()*.*2788:8788:>;876569=<<=;:;?@??A@8?>52)====BABAEC822133;<?>>A>=;;==8CBDCBCCEABABB>====BBA;A*??993333\tNM:i:6\tMD:Z:10C1G10A3C14A5G38\tAS:i:57\tXS:i:57\n",
            "SRR34989860.118873\t16\tHG76_PATCH\t23678\t0\t23S81M302S\t*\t0\t0\tGGTTGAACCTGGGTGTTGGAGGCTGCAGTGAGACCAGATCACGCCTCTGTACTTCAGCCTGGGCGACAGAATAAGACTCTGTCTCAAAAAAAAAAAAAAAAAAATTAAATAATGGCCTGTTTCTAGATTTCAAAGCAGCTTGGACCTGGAAATTAAATATTTGGAATCTATCCAAGTAATGTACTTAAAGAAACTTTTGTATGTTAAAGGCACATCTAATGTGCTTAATAAATTTCATAAACATCAATAAATGGAGTGAGTGAATTAATGAGCGAGTGAACTAGTAGTCATGATGCAATAGGAGTGACGAGATAGAATTTTCTGGAGTTTTTTGTTTGTTTTGAGATAGGCTCTCTGTCTCTGTCACCCTGACGAACATGGCTCACTGCAGCCTCAGACTGCTGGG\t58<@A@@AA>>==<;8:9('''(@BBEB@<;;;<@BD>:::9:<=;<:9+****9B@AA<9999;@<::::<>B@?>?>>=<99@BHEEI><;<;<<931<89:<?B@C=:988889;:<;<;;;=<>B@A>?76676786555557:<?@>@BCCCB>=>==::::9<;<;=>???=<33.''))):>@AB:A>A@@>>>=>AC>==<=><<::;;;<::==>BCEDCCCCBCA@@<<=<<@AAEEEB>>;::;:<<==C@ABAB8866334;>@?><::;;<===<==<;<==@>:999;=:9888:<;=<=>A@MB?/---?@@GHB>>==@ABBDCEDA>==<=>9{BDA?B?A?>>??><;;;;88889><<===??@A>><<:;<=;<;;;64/+)****\tNM:i:7\tMD:Z:9C1G10A3C3C10A5G33\tAS:i:46\tXS:i:46\n",
            "SRR34989860.164978\t16\tHG76_PATCH\t23679\t0\t80M298S\t*\t0\t0\tGCAGTGAGACCAGATCACGCCTCTGTACTCCAGCCTGGGCGACAGAATAAGACTCTGTCTCAAAAAAAAAAAAAAAAAAATTAAATAATGGCCTGTTTCTAGATTTCAGCAGCTTGGACCTGGAAATTAAATATTTGGAATCTATCCAAGTAATGTACTTACAAGAAACTTTTGTATGTTAAAGGCACATCTAATGTGCTTAATAAATTTCATAAACATCAATAAATGGAGTGAGTGAATTAATGAGCGAGTGAACTAGTAGTCATGATGCAATAGGAGTGACGAGATAGAATTTTTCTGAGTTTTGTTTGTTTTGAGATAGGCTCTCTGTCTCTGTCACCCTGACGAACATGGCTCACTGCAGCCTCAGACTGCTGT\t))**,85,,348@>:9999<<<@@A:B@CABCBCE<::::>D>:7778:B@<<<;;B?81/-49<?BCDCDEDDB?>347;<@A?::98899:;<<=<<=;75211167;:7201031.++,56223/000089:<==22222<<:;<*(((()7512:<<=BA<<<<?665567>>?C=8666=>;;<<<>??==>>>AA@::;=:666=?@?><<>??DDFD><::;;99989=CABA??:43334:<=B@<:898:<955338>>==>@8776444465460*))+<00/02777;:7>A=<==?@??EC><<;<<6,)(()),005:9:;=><;/8866777:>=<<<80;88888;99898433<333---00\tNM:i:6\tMD:Z:8C1G10A3C14A5G33\tAS:i:50\tXS:i:50\n",
            "SRR34989860.165572\t0\tHG76_PATCH\t25771\t0\t159S64M\t*\t0\t0\tAGAGCAAGATTCCGTCTCAAAATCAATAAAATAAATAAGCCTCCATATTTTGCTGATGTTACTTTTGTCACACTCATAACCACCCAAGTAACGTAAATCACAGATCTCATATCATATCCTTTATATAGATACTAATCCAGAATTTTGAAAGATAGTCCCACTGGGCACAGTGGCTCACGCCTGTAATCCCATCACTTTGGGAGGCTGAGGTGGACAGATAACT\t/.01114569;<<;;99:99;<;=AA@CEEFDB@?1:?*****1-./..19979==<=<<-,..0/,,(''&%&(%%&&(+''+-+)((*-18889:?=;::9:;95--,-152----83374>=/0.3122<<===;;8898:AC>??317999;;;;8:9::<=?><<=<=>=?AA?????C@@@CAB@77777A@BACCDBCEB@CA?>=;<;;9:6431\tNM:i:3\tMD:Z:32A16A10C3\tAS:i:50\tXS:i:48\n",
            "SRR34989860.3429\t16\tHG76_PATCH\t25771\t3\t47S73M\t*\t0\t0\tAGAGTATCCTTTATATAGATACTAATCCAGAATTGAAAGATAGTCCCACTGGGCACAGTGGCTCACGCCTGTAATCCCATCACTTTGGGAGGCTGAGGTGGACAGATAACTTGAGGCCAG\t$&*+467<6898;9AAE:982.--./.-,*('*-,-001;:::9978899AC????@CBCA?>===@BDDCCBDCAABCCCBACB?BCC@@?@AAA@76776AACDAB=<;775585548\tNM:i:4\tMD:Z:32A16A10C8T3\tAS:i:54\tXS:i:49\n",
            "SRR34989860.63613\t2064\tHG76_PATCH\t25771\t0\t242H60M9H\t*\t0\t0\tACTGGGCACAGTGGCTCACGCCTGTAATCCCATCACTTTGGGAGGCTGAGGTGGACAGAT\t1102=::;=<@D?C@=<<<=???@>?<;93/-.-1002:BF=76567@?<93,))((*,+\tNM:i:2\tMD:Z:32A16A10\tAS:i:50\tXS:i:48\tSA:Z:HG1832_PATCH,365169,+,220S78M13S,0,4;\n",
            "SRR34989860.169623\t2064\tHG76_PATCH\t25771\t3\t239H73M\t*\t0\t0\tACTGGGCACAGTGGCTCACGCCTGTAATCCCATCACTTTGGGAGGCTGAGGTGGACAGATAACTTGAGGCCAG\t/227:830*+,,329;;;;<@BBCC?CD;:;:<DDDBB@@@A>>>??@@?;9877::<>>==968//...228\tNM:i:4\tMD:Z:32A16A10C8T3\tAS:i:54\tXS:i:49\tSA:Z:HG1832_PATCH,365168,+,221S79M12S,8,4;\n",
            "SRR34989860.13996\t2048\tHG76_PATCH\t31327\t0\t341H75M\t*\t0\t0\tGGGCAGGCACGGTGGCTCACGCCTGTAATTTCAACACTTTGGGAGGCCAAGATGGGCAGATCACTTGAGCCCAGG\t1:200///0833346@???>>=>@>??>>@>=>;;;:;?@AAAAADF=;<;:9;---,.221))(((,+.00*('\tNM:i:6\tMD:Z:29C0C2G17G0C16G5\tAS:i:45\tXS:i:45\tSA:Z:HSCHR12_2_CTG2,271831,-,323S18M2D65M10S,0,7;\n"
          ]
        }
      ]
    },
    {
      "cell_type": "code",
      "source": [],
      "metadata": {
        "id": "FmvZ2r8JhAqU"
      },
      "execution_count": null,
      "outputs": []
    }
  ]
}